{
 "cells": [
  {
   "cell_type": "code",
   "execution_count": null,
   "id": "0abb5077",
   "metadata": {},
   "outputs": [],
   "source": [
    "class FileLogger:\n",
    "    \n",
    "    def __init__(self, file_path, override=True):\n",
    "        self.file_path = file_path\n",
    "        if override:\n",
    "            with open(file_path, 'w') as file:\n",
    "                pass\n",
    "    \n",
    "    def log(self, text):\n",
    "        with open(self.file_path, 'a') as file:\n",
    "            file.write(text + '\\n')"
   ]
  }
 ],
 "metadata": {
  "kernelspec": {
   "display_name": "Python 3 (ipykernel)",
   "language": "python",
   "name": "python3"
  },
  "language_info": {
   "codemirror_mode": {
    "name": "ipython",
    "version": 3
   },
   "file_extension": ".py",
   "mimetype": "text/x-python",
   "name": "python",
   "nbconvert_exporter": "python",
   "pygments_lexer": "ipython3",
   "version": "3.9.0"
  }
 },
 "nbformat": 4,
 "nbformat_minor": 5
}
