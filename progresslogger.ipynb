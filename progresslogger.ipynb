{
 "cells": [
  {
   "cell_type": "code",
   "execution_count": 2,
   "id": "73825344",
   "metadata": {},
   "outputs": [],
   "source": [
    "from tqdm import tqdm\n",
    "from re import findall\n",
    "from math import ceil\n",
    "\n",
    "class ProgressLogger:\n",
    "    \n",
    "    def __init__(self, log_pattern, total):\n",
    "        self.total = total\n",
    "        self.log_pattern = log_pattern\n",
    "        self.__pbar = tqdm(total=self.total)\n",
    "        self.__value = 0\n",
    "    \n",
    "    def log(self, text):\n",
    "        value = int(ceil(float(findall(self.log_pattern, text)[0])))\n",
    "        self.__pbar.update(value - self.__value)\n",
    "        self.__value = value\n",
    "        if value >= self.total:\n",
    "            self.__pbar.close()\n",
    "            print(f'Progress Logger: pbar closed')"
   ]
  },
  {
   "cell_type": "code",
   "execution_count": null,
   "id": "8566fcb8",
   "metadata": {},
   "outputs": [],
   "source": []
  }
 ],
 "metadata": {
  "kernelspec": {
   "display_name": "Python 3 (ipykernel)",
   "language": "python",
   "name": "python3"
  },
  "language_info": {
   "codemirror_mode": {
    "name": "ipython",
    "version": 3
   },
   "file_extension": ".py",
   "mimetype": "text/x-python",
   "name": "python",
   "nbconvert_exporter": "python",
   "pygments_lexer": "ipython3",
   "version": "3.9.0"
  }
 },
 "nbformat": 4,
 "nbformat_minor": 5
}
