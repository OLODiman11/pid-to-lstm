{
 "cells": [
  {
   "cell_type": "code",
   "execution_count": 3,
   "id": "3a0bf5cd",
   "metadata": {},
   "outputs": [],
   "source": [
    "import numpy as np\n",
    "import random\n",
    "import matplotlib.pyplot as plt\n",
    "import tclab\n",
    "from sklearn.feature_selection import SelectKBest, f_regression\n",
    "from sklearn.model_selection import train_test_split \n",
    "import imageio"
   ]
  },
  {
   "cell_type": "code",
   "execution_count": 1,
   "id": "d68123f9",
   "metadata": {},
   "outputs": [],
   "source": [
    "def generate_temperature_setpoints(initial_rest, initial_temp, min_interval, max_interval, min_temp, max_temp, count, seed=None):\n",
    "    if seed:\n",
    "        random.seed(seed)\n",
    "    start = 0\n",
    "    end = initial_rest\n",
    "    TCLab = tclab.setup(connected=False)\n",
    "    with TCLab() as lab:\n",
    "        Tsp = np.ones(count) * lab.T1\n",
    "    while end <= count:\n",
    "        start = end\n",
    "        end += random.randint(min_interval, max_interval) \n",
    "        Tsp[start:end] = random.randint(min_temp, max_temp)\n",
    "    return Tsp"
   ]
  },
  {
   "cell_type": "code",
   "execution_count": null,
   "id": "907d853f",
   "metadata": {},
   "outputs": [],
   "source": [
    "def set_temperature_setpoints(x, y, count):\n",
    "    Tsp = np.zeros(count)\n",
    "    for i in range(len(x) - 1):\n",
    "        Tsp[x[i]:x[i + 1]] = y[i]\n",
    "    Tsp[x[len(x) - 1]:count] = y[len(y) - 1]\n",
    "    return Tsp"
   ]
  },
  {
   "cell_type": "code",
   "execution_count": null,
   "id": "517bfd46",
   "metadata": {},
   "outputs": [],
   "source": [
    "def select_best_features(X, y, threshold = 0.05):\n",
    "    bestfeatures = SelectKBest(score_func=f_regression, k='all')\n",
    "    fit = bestfeatures.fit(X,y)\n",
    "    scores = fit.scores_\n",
    "    total_score = sum(scores)\n",
    "    \n",
    "    features = list()\n",
    "    \n",
    "    for i in range(len(X.columns)):\n",
    "        if scores[i] >= threshold * total_score:\n",
    "            features.append(X.columns[i])\n",
    "    \n",
    "    plt.bar(x=X.columns,height=fit.scores_ / total_score);\n",
    "    \n",
    "    return X[features]"
   ]
  },
  {
   "cell_type": "code",
   "execution_count": null,
   "id": "679be28d",
   "metadata": {},
   "outputs": [],
   "source": [
    "def create_train_and_test_data(X, y, s_x, s_y, window, test_size=0.2, shuffle=False):\n",
    "\n",
    "        Xs = s_x.fit_transform(X)\n",
    "        ys = s_y.fit_transform(y)\n",
    "\n",
    "        X_lstm = []\n",
    "        y_lstm = []\n",
    "        for i in range(window, len(X)):\n",
    "            X_lstm.append(Xs[i-window:i])\n",
    "            y_lstm.append(ys[i])\n",
    "\n",
    "        X_lstm, y_lstm = np.array(X_lstm), np.array(y_lstm)\n",
    "        return train_test_split(X_lstm, y_lstm, test_size=test_size, shuffle=shuffle)"
   ]
  },
  {
   "cell_type": "code",
   "execution_count": null,
   "id": "54c47d79",
   "metadata": {},
   "outputs": [],
   "source": [
    "def run_tclab(run_time, Tsp, controllers, loggers=None, connected=True, speedup=1, dt=1, Q2=None):\n",
    "    \n",
    "    loops = int(run_time) + 1\n",
    "    \n",
    "    T1 = np.zeros(loops)\n",
    "    Qs = np.zeros([len(controllers), loops])\n",
    "    tm = np.zeros(loops)\n",
    "    \n",
    "    TCLab = tclab.setup(connected=connected, speedup=speedup)\n",
    "    with TCLab() as lab:\n",
    "        \n",
    "        if loggers:\n",
    "            for logger in loggers:\n",
    "                logger.log('{:6} {:6} {:6} {:6}'.format('tm', 'Tsp', 'T1', 'Q1'))\n",
    "        \n",
    "        last_i = -1\n",
    "        for clock in tclab.clock(run_time, dt):\n",
    "            i = int(clock)\n",
    "            index_gap = i - last_i\n",
    "            tm[last_i + 1: i + 1] = [clock] * index_gap\n",
    "            T1[last_i + 1: i + 1] = [lab.T1] * index_gap\n",
    "            Qs[:, last_i + 1: i + 1] = [[controller.get_output(Tsp[i], T1[i], dt)] * index_gap for controller in controllers]\n",
    "            lab.Q1(Qs[0, i])\n",
    "            if Q2:\n",
    "                lab.Q2(Q2[i])\n",
    "            last_i = i\n",
    "            \n",
    "            if loggers:\n",
    "                for logger in loggers:\n",
    "                    logger.log(f'{tm[i]:6.1f} {Tsp[i]:6.2f} {T1[i]:6.2f} {Qs[0, i]:6.2f} {\" \".join([f\"{x:6.2f}\" for x in Qs[1:, i]])}')\n",
    "            \n",
    "        return tm, T1, Qs[0], Qs[1:]"
   ]
  }
 ],
 "metadata": {
  "kernelspec": {
   "display_name": "Python 3 (ipykernel)",
   "language": "python",
   "name": "python3"
  },
  "language_info": {
   "codemirror_mode": {
    "name": "ipython",
    "version": 3
   },
   "file_extension": ".py",
   "mimetype": "text/x-python",
   "name": "python",
   "nbconvert_exporter": "python",
   "pygments_lexer": "ipython3",
   "version": "3.9.0"
  }
 },
 "nbformat": 4,
 "nbformat_minor": 5
}
