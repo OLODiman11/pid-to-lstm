{
 "cells": [
  {
   "cell_type": "code",
   "execution_count": 33,
   "id": "3a0bf5cd",
   "metadata": {},
   "outputs": [],
   "source": [
    "import numpy as np\n",
    "import random\n",
    "import matplotlib.pyplot as plt\n",
    "import tclab\n",
    "from sklearn.feature_selection import SelectKBest, f_regression\n",
    "from sklearn.model_selection import train_test_split \n",
    "import imageio"
   ]
  },
  {
   "cell_type": "code",
   "execution_count": 34,
   "id": "d68123f9",
   "metadata": {},
   "outputs": [],
   "source": [
    "def generate_temperature_setpoints(initial_rest, initial_temp, min_interval, max_interval, min_temp, max_temp, count):\n",
    "    start = 0\n",
    "    end = initial_rest\n",
    "    Tsp = np.zeros(count) * initial_temp\n",
    "    while end <= count:\n",
    "        start = end\n",
    "        end += random.randint(min_interval, max_interval) \n",
    "        Tsp[start:end] = random.randint(min_temp, max_temp)\n",
    "    return Tsp"
   ]
  },
  {
   "cell_type": "code",
   "execution_count": 35,
   "id": "907d853f",
   "metadata": {},
   "outputs": [],
   "source": [
    "def set_temperature_setpoints(x, y, count):\n",
    "    Tsp = np.zeros(count)\n",
    "    for i in range(len(x) - 1):\n",
    "        Tsp[x[i]:x[i + 1]] = y[i]\n",
    "    Tsp[x[len(x) - 1]:count] = y[len(y) - 1]\n",
    "    return Tsp"
   ]
  },
  {
   "cell_type": "code",
   "execution_count": 36,
   "id": "a46cdaa8",
   "metadata": {},
   "outputs": [],
   "source": [
    "def plot(data, x_label, y_label, label_size=14, ticks_size=12):\n",
    "    plt.plot(data)\n",
    "    plt.xlabel(x_label, size=label_size)\n",
    "    plt.ylabel(y_label, size=label_size)\n",
    "    plt.xticks(size=ticks_size)\n",
    "    plt.yticks(size=ticks_size)"
   ]
  },
  {
   "cell_type": "code",
   "execution_count": 37,
   "id": "4499b10a",
   "metadata": {},
   "outputs": [],
   "source": [
    "def run_tclab(run_time, Tsp, active_cont, passive_cont = None, Q2 = None, emulator=False, speedup=60):\n",
    "    \n",
    "    loops = int(run_time)\n",
    "    \n",
    "    T1 = np.zeros(loops)\n",
    "    Q1 = np.zeros(loops)\n",
    "    Qpass = np.zeros(loops)\n",
    "    tm = np.zeros(loops)\n",
    "    \n",
    "    if emulator:\n",
    "        TCLab = tclab.setup(connected=False, speedup=speedup)\n",
    "    with TCLab() as lab:\n",
    "\n",
    "        start_time = 0\n",
    "        prev_time = -1\n",
    "\n",
    "        i = 0\n",
    "        for clock in tclab.clock(run_time):\n",
    "            if i >= run_time:\n",
    "                break\n",
    "                \n",
    "            t = clock\n",
    "            dt = t - prev_time\n",
    "            prev_time = t\n",
    "            tm[i] = t - start_time\n",
    "\n",
    "            T1[i] = lab.T1\n",
    "            if passive_cont is not None:\n",
    "                Qpass[i] = passive_cont.get_output(Tsp[i], T1[i], dt)\n",
    "            Q1[i] = active_cont.get_output(Tsp[i], T1[i], dt)\n",
    "            \n",
    "            lab.Q1(Q1[i])\n",
    "            if Q2 is not None:\n",
    "                lab.Q2(Q2[i])\n",
    "            \n",
    "            print(f'{tm[i]:6.1f} {Tsp[i]:6.2f} {T1[i]:6.2f} {Q1[i]:6.2f} {Qpass[i]:6.2f}')\n",
    "            \n",
    "            i += 1\n",
    "            \n",
    "        return tm, T1, Q1, Qpass"
   ]
  },
  {
   "cell_type": "code",
   "execution_count": 38,
   "id": "2983092f",
   "metadata": {},
   "outputs": [],
   "source": [
    "def resume_run(lab, run_time, Tsp, active_cont, passive_cont = None, Q2 = None, emulator=False, speedup=60):\n",
    "    \n",
    "    loops = int(run_time)\n",
    "    \n",
    "    T1 = np.zeros(loops)\n",
    "    Q1 = np.zeros(loops)\n",
    "    Qpass = np.zeros(loops)\n",
    "    tm = np.zeros(loops)\n",
    "    \n",
    "    start_time = 0\n",
    "    prev_time = -1\n",
    "\n",
    "    i = 0\n",
    "    for clock in tclab.clock(run_time):\n",
    "        if i >= run_time:\n",
    "            break\n",
    "\n",
    "        t = clock\n",
    "        dt = t - prev_time\n",
    "        prev_time = t\n",
    "        tm[i] = t - start_time\n",
    "\n",
    "        T1[i] = lab.T1\n",
    "        if passive_cont is not None:\n",
    "            Qpass[i] = passive_cont.get_output(Tsp[i], T1[i], dt)\n",
    "        Q1[i] = active_cont.get_output(Tsp[i], T1[i], dt)\n",
    "\n",
    "        lab.Q1(Q1[i])\n",
    "        if Q2 is not None:\n",
    "            lab.Q2(Q2[i])\n",
    "\n",
    "        print(f'{tm[i]:6.1f} {T1[i]:6.2f} {Q1[i]:6.2f} {Qpass[i]:6.2f}')\n",
    "\n",
    "        i += 1\n",
    "\n",
    "    return tm, T1, Q1, Qpass"
   ]
  },
  {
   "cell_type": "code",
   "execution_count": 39,
   "id": "517bfd46",
   "metadata": {},
   "outputs": [],
   "source": [
    "def select_best_features(X, y, threshold = 0.05):\n",
    "    bestfeatures = SelectKBest(score_func=f_regression, k='all')\n",
    "    fit = bestfeatures.fit(X,y)\n",
    "    scores = fit.scores_\n",
    "    total_score = sum(scores)\n",
    "    \n",
    "    features = list()\n",
    "    \n",
    "    for i in range(len(X.columns)):\n",
    "        if scores[i] >= threshold * total_score:\n",
    "            features.append(X.columns[i])\n",
    "    \n",
    "    plt.bar(x=X.columns,height=fit.scores_ / total_score);\n",
    "    \n",
    "    return X[features]"
   ]
  },
  {
   "cell_type": "code",
   "execution_count": 40,
   "id": "679be28d",
   "metadata": {},
   "outputs": [],
   "source": [
    "def create_train_and_test_data(X, y, s_x, s_y, window, test_size=0.2, shuffle=False):\n",
    "\n",
    "        Xs = s_x.fit_transform(X)\n",
    "        ys = s_y.fit_transform(y)\n",
    "\n",
    "        X_lstm = []\n",
    "        y_lstm = []\n",
    "        for i in range(window, len(X)):\n",
    "            X_lstm.append(Xs[i-window:i])\n",
    "            y_lstm.append(ys[i])\n",
    "\n",
    "        X_lstm, y_lstm = np.array(X_lstm), np.array(y_lstm)\n",
    "        return train_test_split(X_lstm, y_lstm, test_size=test_size, shuffle=shuffle)"
   ]
  },
  {
   "cell_type": "code",
   "execution_count": 41,
   "id": "749506c3",
   "metadata": {},
   "outputs": [],
   "source": [
    "def make_image_history(path, length, step, data):\n",
    "    for i in range(0, length, step):\n",
    "        colors = ['b', 'g', 'r', 'c', 'm', 'y', 'k', 'w']\n",
    "        plt.figure(figsize=(10,4))\n",
    "        for label, item in data.items():\n",
    "            plt.plot(item[:i], f'-{colors.pop(0)}', label=label)\n",
    "        plt.legend(loc='upper right',fontsize=14)\n",
    "        plt.ylim((0,100))\n",
    "        plt.xlabel('Time (s)',size=14)\n",
    "        plt.xticks(size=12)\n",
    "        plt.yticks(size=12)\n",
    "\n",
    "        num = str(i).zfill(len(str(length)))\n",
    "        filename=path.format(num)\n",
    "        plt.savefig(filename)\n",
    "        plt.close()"
   ]
  },
  {
   "cell_type": "code",
   "execution_count": 42,
   "id": "762438b4",
   "metadata": {},
   "outputs": [],
   "source": [
    "def read_image_history(path, length, step):\n",
    "    images = []\n",
    "    for i in range(0,length,step):\n",
    "        num = str(i).zfill(len(str(length)))\n",
    "        filename=path.format(num)\n",
    "        images.append(imageio.imread(filename))\n",
    "    return images"
   ]
  },
  {
   "cell_type": "code",
   "execution_count": 43,
   "id": "5717772e",
   "metadata": {},
   "outputs": [],
   "source": [
    "def multiplot(data, xlabel='x', ylabel='y', label_size=14, ticks_size=12):\n",
    "    colors = ['b', 'g', 'r', 'c', 'm', 'y', 'k', 'w']\n",
    "    for label, item in data.items():\n",
    "        plt.plot(item, f'-{colors.pop(0)}', label=label)\n",
    "    plt.xlabel(xlabel, size=label_size)\n",
    "    plt.ylabel(ylabel, size=label_size)\n",
    "    plt.xticks(size=12)\n",
    "    plt.yticks(size=12)\n",
    "    plt.legend()"
   ]
  }
 ],
 "metadata": {
  "kernelspec": {
   "display_name": "Python 3 (ipykernel)",
   "language": "python",
   "name": "python3"
  },
  "language_info": {
   "codemirror_mode": {
    "name": "ipython",
    "version": 3
   },
   "file_extension": ".py",
   "mimetype": "text/x-python",
   "name": "python",
   "nbconvert_exporter": "python",
   "pygments_lexer": "ipython3",
   "version": "3.9.0"
  }
 },
 "nbformat": 4,
 "nbformat_minor": 5
}
