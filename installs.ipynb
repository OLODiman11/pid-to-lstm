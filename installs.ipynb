{
 "cells": [
  {
   "cell_type": "code",
   "execution_count": null,
   "id": "c2e6bb98",
   "metadata": {},
   "outputs": [],
   "source": [
    "!pip install tclab"
   ]
  },
  {
   "cell_type": "code",
   "execution_count": 2,
   "id": "748a8256",
   "metadata": {},
   "outputs": [
    {
     "name": "stdout",
     "output_type": "stream",
     "text": [
      "Requirement already satisfied: numpy in d:\\projects\\jupyternotebook\\pidtolstm\\venv\\lib\\site-packages (1.25.1)\n"
     ]
    }
   ],
   "source": [
    "!pip install numpy"
   ]
  },
  {
   "cell_type": "code",
   "execution_count": 3,
   "id": "45993893",
   "metadata": {},
   "outputs": [
    {
     "name": "stdout",
     "output_type": "stream",
     "text": [
      "Requirement already satisfied: pandas in d:\\projects\\jupyternotebook\\pidtolstm\\venv\\lib\\site-packages (2.0.3)\n",
      "Requirement already satisfied: python-dateutil>=2.8.2 in d:\\projects\\jupyternotebook\\pidtolstm\\venv\\lib\\site-packages (from pandas) (2.8.2)\n",
      "Requirement already satisfied: pytz>=2020.1 in d:\\projects\\jupyternotebook\\pidtolstm\\venv\\lib\\site-packages (from pandas) (2023.3)\n",
      "Requirement already satisfied: tzdata>=2022.1 in d:\\projects\\jupyternotebook\\pidtolstm\\venv\\lib\\site-packages (from pandas) (2023.3)\n",
      "Requirement already satisfied: numpy>=1.20.3 in d:\\projects\\jupyternotebook\\pidtolstm\\venv\\lib\\site-packages (from pandas) (1.25.1)\n",
      "Requirement already satisfied: six>=1.5 in d:\\projects\\jupyternotebook\\pidtolstm\\venv\\lib\\site-packages (from python-dateutil>=2.8.2->pandas) (1.16.0)\n"
     ]
    }
   ],
   "source": [
    "!pip install pandas"
   ]
  },
  {
   "cell_type": "code",
   "execution_count": 4,
   "id": "4ac6e16d",
   "metadata": {},
   "outputs": [
    {
     "name": "stdout",
     "output_type": "stream",
     "text": [
      "Requirement already satisfied: matplotlib in d:\\projects\\jupyternotebook\\pidtolstm\\venv\\lib\\site-packages (3.7.2)\n",
      "Requirement already satisfied: contourpy>=1.0.1 in d:\\projects\\jupyternotebook\\pidtolstm\\venv\\lib\\site-packages (from matplotlib) (1.1.0)\n",
      "Requirement already satisfied: cycler>=0.10 in d:\\projects\\jupyternotebook\\pidtolstm\\venv\\lib\\site-packages (from matplotlib) (0.11.0)\n",
      "Requirement already satisfied: fonttools>=4.22.0 in d:\\projects\\jupyternotebook\\pidtolstm\\venv\\lib\\site-packages (from matplotlib) (4.41.0)\n",
      "Requirement already satisfied: kiwisolver>=1.0.1 in d:\\projects\\jupyternotebook\\pidtolstm\\venv\\lib\\site-packages (from matplotlib) (1.4.4)\n",
      "Requirement already satisfied: numpy>=1.20 in d:\\projects\\jupyternotebook\\pidtolstm\\venv\\lib\\site-packages (from matplotlib) (1.25.1)\n",
      "Requirement already satisfied: packaging>=20.0 in d:\\projects\\jupyternotebook\\pidtolstm\\venv\\lib\\site-packages (from matplotlib) (23.1)\n",
      "Requirement already satisfied: pillow>=6.2.0 in d:\\projects\\jupyternotebook\\pidtolstm\\venv\\lib\\site-packages (from matplotlib) (10.0.0)\n",
      "Requirement already satisfied: pyparsing<3.1,>=2.3.1 in d:\\projects\\jupyternotebook\\pidtolstm\\venv\\lib\\site-packages (from matplotlib) (3.0.9)\n",
      "Requirement already satisfied: python-dateutil>=2.7 in d:\\projects\\jupyternotebook\\pidtolstm\\venv\\lib\\site-packages (from matplotlib) (2.8.2)\n",
      "Requirement already satisfied: importlib-resources>=3.2.0 in d:\\projects\\jupyternotebook\\pidtolstm\\venv\\lib\\site-packages (from matplotlib) (6.0.0)\n",
      "Requirement already satisfied: zipp>=3.1.0 in d:\\projects\\jupyternotebook\\pidtolstm\\venv\\lib\\site-packages (from importlib-resources>=3.2.0->matplotlib) (3.16.2)\n",
      "Requirement already satisfied: six>=1.5 in d:\\projects\\jupyternotebook\\pidtolstm\\venv\\lib\\site-packages (from python-dateutil>=2.7->matplotlib) (1.16.0)\n"
     ]
    }
   ],
   "source": [
    "!pip install matplotlib"
   ]
  },
  {
   "cell_type": "code",
   "execution_count": 5,
   "id": "8b73dcb2",
   "metadata": {},
   "outputs": [
    {
     "name": "stdout",
     "output_type": "stream",
     "text": [
      "Requirement already satisfied: import-ipynb in d:\\projects\\jupyternotebook\\pidtolstm\\venv\\lib\\site-packages (0.1.4)\n",
      "Requirement already satisfied: IPython in d:\\projects\\jupyternotebook\\pidtolstm\\venv\\lib\\site-packages (from import-ipynb) (8.14.0)\n",
      "Requirement already satisfied: nbformat in d:\\projects\\jupyternotebook\\pidtolstm\\venv\\lib\\site-packages (from import-ipynb) (5.9.1)\n",
      "Requirement already satisfied: backcall in d:\\projects\\jupyternotebook\\pidtolstm\\venv\\lib\\site-packages (from IPython->import-ipynb) (0.2.0)\n",
      "Requirement already satisfied: decorator in d:\\projects\\jupyternotebook\\pidtolstm\\venv\\lib\\site-packages (from IPython->import-ipynb) (5.1.1)\n",
      "Requirement already satisfied: jedi>=0.16 in d:\\projects\\jupyternotebook\\pidtolstm\\venv\\lib\\site-packages (from IPython->import-ipynb) (0.18.2)\n",
      "Requirement already satisfied: matplotlib-inline in d:\\projects\\jupyternotebook\\pidtolstm\\venv\\lib\\site-packages (from IPython->import-ipynb) (0.1.6)\n",
      "Requirement already satisfied: pickleshare in d:\\projects\\jupyternotebook\\pidtolstm\\venv\\lib\\site-packages (from IPython->import-ipynb) (0.7.5)\n",
      "Requirement already satisfied: prompt-toolkit!=3.0.37,<3.1.0,>=3.0.30 in d:\\projects\\jupyternotebook\\pidtolstm\\venv\\lib\\site-packages (from IPython->import-ipynb) (3.0.39)\n",
      "Requirement already satisfied: pygments>=2.4.0 in d:\\projects\\jupyternotebook\\pidtolstm\\venv\\lib\\site-packages (from IPython->import-ipynb) (2.15.1)\n",
      "Requirement already satisfied: stack-data in d:\\projects\\jupyternotebook\\pidtolstm\\venv\\lib\\site-packages (from IPython->import-ipynb) (0.6.2)\n",
      "Requirement already satisfied: traitlets>=5 in d:\\projects\\jupyternotebook\\pidtolstm\\venv\\lib\\site-packages (from IPython->import-ipynb) (5.9.0)\n",
      "Requirement already satisfied: typing-extensions in d:\\projects\\jupyternotebook\\pidtolstm\\venv\\lib\\site-packages (from IPython->import-ipynb) (4.7.1)\n",
      "Requirement already satisfied: colorama in d:\\projects\\jupyternotebook\\pidtolstm\\venv\\lib\\site-packages (from IPython->import-ipynb) (0.4.6)\n",
      "Requirement already satisfied: fastjsonschema in d:\\projects\\jupyternotebook\\pidtolstm\\venv\\lib\\site-packages (from nbformat->import-ipynb) (2.17.1)\n",
      "Requirement already satisfied: jsonschema>=2.6 in d:\\projects\\jupyternotebook\\pidtolstm\\venv\\lib\\site-packages (from nbformat->import-ipynb) (4.18.3)\n",
      "Requirement already satisfied: jupyter-core in d:\\projects\\jupyternotebook\\pidtolstm\\venv\\lib\\site-packages (from nbformat->import-ipynb) (5.3.1)\n",
      "Requirement already satisfied: parso<0.9.0,>=0.8.0 in d:\\projects\\jupyternotebook\\pidtolstm\\venv\\lib\\site-packages (from jedi>=0.16->IPython->import-ipynb) (0.8.3)\n",
      "Requirement already satisfied: attrs>=22.2.0 in d:\\projects\\jupyternotebook\\pidtolstm\\venv\\lib\\site-packages (from jsonschema>=2.6->nbformat->import-ipynb) (23.1.0)\n",
      "Requirement already satisfied: jsonschema-specifications>=2023.03.6 in d:\\projects\\jupyternotebook\\pidtolstm\\venv\\lib\\site-packages (from jsonschema>=2.6->nbformat->import-ipynb) (2023.6.1)\n",
      "Requirement already satisfied: referencing>=0.28.4 in d:\\projects\\jupyternotebook\\pidtolstm\\venv\\lib\\site-packages (from jsonschema>=2.6->nbformat->import-ipynb) (0.29.1)\n",
      "Requirement already satisfied: rpds-py>=0.7.1 in d:\\projects\\jupyternotebook\\pidtolstm\\venv\\lib\\site-packages (from jsonschema>=2.6->nbformat->import-ipynb) (0.8.10)\n",
      "Requirement already satisfied: wcwidth in d:\\projects\\jupyternotebook\\pidtolstm\\venv\\lib\\site-packages (from prompt-toolkit!=3.0.37,<3.1.0,>=3.0.30->IPython->import-ipynb) (0.2.6)\n",
      "Requirement already satisfied: platformdirs>=2.5 in d:\\projects\\jupyternotebook\\pidtolstm\\venv\\lib\\site-packages (from jupyter-core->nbformat->import-ipynb) (3.9.1)\n",
      "Requirement already satisfied: pywin32>=300 in d:\\projects\\jupyternotebook\\pidtolstm\\venv\\lib\\site-packages (from jupyter-core->nbformat->import-ipynb) (306)\n",
      "Requirement already satisfied: executing>=1.2.0 in d:\\projects\\jupyternotebook\\pidtolstm\\venv\\lib\\site-packages (from stack-data->IPython->import-ipynb) (1.2.0)\n",
      "Requirement already satisfied: asttokens>=2.1.0 in d:\\projects\\jupyternotebook\\pidtolstm\\venv\\lib\\site-packages (from stack-data->IPython->import-ipynb) (2.2.1)\n",
      "Requirement already satisfied: pure-eval in d:\\projects\\jupyternotebook\\pidtolstm\\venv\\lib\\site-packages (from stack-data->IPython->import-ipynb) (0.2.2)\n",
      "Requirement already satisfied: six in d:\\projects\\jupyternotebook\\pidtolstm\\venv\\lib\\site-packages (from asttokens>=2.1.0->stack-data->IPython->import-ipynb) (1.16.0)\n"
     ]
    }
   ],
   "source": [
    "!pip install import-ipynb"
   ]
  },
  {
   "cell_type": "code",
   "execution_count": 6,
   "id": "e7d2ce05",
   "metadata": {},
   "outputs": [
    {
     "name": "stdout",
     "output_type": "stream",
     "text": [
      "Requirement already satisfied: scikit-learn in d:\\projects\\jupyternotebook\\pidtolstm\\venv\\lib\\site-packages (1.3.0)\n",
      "Requirement already satisfied: numpy>=1.17.3 in d:\\projects\\jupyternotebook\\pidtolstm\\venv\\lib\\site-packages (from scikit-learn) (1.25.1)\n",
      "Requirement already satisfied: scipy>=1.5.0 in d:\\projects\\jupyternotebook\\pidtolstm\\venv\\lib\\site-packages (from scikit-learn) (1.11.1)\n",
      "Requirement already satisfied: joblib>=1.1.1 in d:\\projects\\jupyternotebook\\pidtolstm\\venv\\lib\\site-packages (from scikit-learn) (1.3.1)\n",
      "Requirement already satisfied: threadpoolctl>=2.0.0 in d:\\projects\\jupyternotebook\\pidtolstm\\venv\\lib\\site-packages (from scikit-learn) (3.2.0)\n"
     ]
    }
   ],
   "source": [
    "!pip install scikit-learn"
   ]
  },
  {
   "cell_type": "code",
   "execution_count": 7,
   "id": "688b5542",
   "metadata": {
    "scrolled": false
   },
   "outputs": [
    {
     "name": "stdout",
     "output_type": "stream",
     "text": [
      "Requirement already satisfied: keras in d:\\projects\\jupyternotebook\\pidtolstm\\venv\\lib\\site-packages (2.13.1)\n"
     ]
    }
   ],
   "source": [
    "!pip install keras"
   ]
  },
  {
   "cell_type": "code",
   "execution_count": 10,
   "id": "5931030d",
   "metadata": {},
   "outputs": [
    {
     "name": "stdout",
     "output_type": "stream",
     "text": [
      "Collecting tensorflow\n",
      "  Obtaining dependency information for tensorflow from https://files.pythonhosted.org/packages/1b/66/2f47c39cfedb29188d82555d0184a619a0bf8234fd5e5301940efb0aa464/tensorflow-2.13.0-cp39-cp39-win_amd64.whl.metadata\n",
      "  Using cached tensorflow-2.13.0-cp39-cp39-win_amd64.whl.metadata (2.6 kB)\n",
      "Collecting tensorflow-intel==2.13.0 (from tensorflow)\n",
      "  Obtaining dependency information for tensorflow-intel==2.13.0 from https://files.pythonhosted.org/packages/2b/ad/d3a2e335004d178e0599cf8aff6c2a92cd21eb9789358fb8f3f951009930/tensorflow_intel-2.13.0-cp39-cp39-win_amd64.whl.metadata\n",
      "  Using cached tensorflow_intel-2.13.0-cp39-cp39-win_amd64.whl.metadata (4.1 kB)\n",
      "Collecting absl-py>=1.0.0 (from tensorflow-intel==2.13.0->tensorflow)\n",
      "  Using cached absl_py-1.4.0-py3-none-any.whl (126 kB)\n",
      "Collecting astunparse>=1.6.0 (from tensorflow-intel==2.13.0->tensorflow)\n",
      "  Using cached astunparse-1.6.3-py2.py3-none-any.whl (12 kB)\n",
      "Requirement already satisfied: flatbuffers>=23.1.21 in d:\\projects\\jupyternotebook\\pidtolstm\\venv\\lib\\site-packages (from tensorflow-intel==2.13.0->tensorflow) (23.5.26)\n",
      "Collecting gast<=0.4.0,>=0.2.1 (from tensorflow-intel==2.13.0->tensorflow)\n",
      "  Using cached gast-0.4.0-py3-none-any.whl (9.8 kB)\n",
      "Collecting google-pasta>=0.1.1 (from tensorflow-intel==2.13.0->tensorflow)\n",
      "  Using cached google_pasta-0.2.0-py3-none-any.whl (57 kB)\n",
      "Collecting h5py>=2.9.0 (from tensorflow-intel==2.13.0->tensorflow)\n",
      "  Obtaining dependency information for h5py>=2.9.0 from https://files.pythonhosted.org/packages/a0/62/9790f98aa125a035cda91be7a41a46bdc76b26ffdd2ad2d3c5b7f7232946/h5py-3.9.0-cp39-cp39-win_amd64.whl.metadata\n",
      "  Using cached h5py-3.9.0-cp39-cp39-win_amd64.whl.metadata (2.5 kB)\n",
      "Requirement already satisfied: libclang>=13.0.0 in d:\\projects\\jupyternotebook\\pidtolstm\\venv\\lib\\site-packages (from tensorflow-intel==2.13.0->tensorflow) (16.0.6)\n",
      "Requirement already satisfied: numpy<=1.24.3,>=1.22 in d:\\projects\\jupyternotebook\\pidtolstm\\venv\\lib\\site-packages (from tensorflow-intel==2.13.0->tensorflow) (1.24.3)\n",
      "Collecting opt-einsum>=2.3.2 (from tensorflow-intel==2.13.0->tensorflow)\n",
      "  Using cached opt_einsum-3.3.0-py3-none-any.whl (65 kB)\n",
      "Requirement already satisfied: packaging in d:\\projects\\jupyternotebook\\pidtolstm\\venv\\lib\\site-packages (from tensorflow-intel==2.13.0->tensorflow) (23.1)\n",
      "Requirement already satisfied: protobuf!=4.21.0,!=4.21.1,!=4.21.2,!=4.21.3,!=4.21.4,!=4.21.5,<5.0.0dev,>=3.20.3 in d:\\projects\\jupyternotebook\\pidtolstm\\venv\\lib\\site-packages (from tensorflow-intel==2.13.0->tensorflow) (4.23.4)\n",
      "Requirement already satisfied: setuptools in d:\\projects\\jupyternotebook\\pidtolstm\\venv\\lib\\site-packages (from tensorflow-intel==2.13.0->tensorflow) (49.2.1)\n",
      "Requirement already satisfied: six>=1.12.0 in d:\\projects\\jupyternotebook\\pidtolstm\\venv\\lib\\site-packages (from tensorflow-intel==2.13.0->tensorflow) (1.16.0)\n",
      "Requirement already satisfied: termcolor>=1.1.0 in d:\\projects\\jupyternotebook\\pidtolstm\\venv\\lib\\site-packages (from tensorflow-intel==2.13.0->tensorflow) (2.3.0)\n",
      "Requirement already satisfied: typing-extensions<4.6.0,>=3.6.6 in d:\\projects\\jupyternotebook\\pidtolstm\\venv\\lib\\site-packages (from tensorflow-intel==2.13.0->tensorflow) (4.5.0)\n",
      "Requirement already satisfied: wrapt>=1.11.0 in d:\\projects\\jupyternotebook\\pidtolstm\\venv\\lib\\site-packages (from tensorflow-intel==2.13.0->tensorflow) (1.15.0)\n",
      "Collecting grpcio<2.0,>=1.24.3 (from tensorflow-intel==2.13.0->tensorflow)\n",
      "  Obtaining dependency information for grpcio<2.0,>=1.24.3 from https://files.pythonhosted.org/packages/19/1e/866020537ca4fee532e31cdbfee272cd049fbd31c0e19f140505bc5424ea/grpcio-1.56.0-cp39-cp39-win_amd64.whl.metadata\n",
      "  Using cached grpcio-1.56.0-cp39-cp39-win_amd64.whl.metadata (4.1 kB)\n",
      "Collecting tensorboard<2.14,>=2.13 (from tensorflow-intel==2.13.0->tensorflow)\n",
      "  Using cached tensorboard-2.13.0-py3-none-any.whl (5.6 MB)\n",
      "Requirement already satisfied: tensorflow-estimator<2.14,>=2.13.0 in d:\\projects\\jupyternotebook\\pidtolstm\\venv\\lib\\site-packages (from tensorflow-intel==2.13.0->tensorflow) (2.13.0)\n",
      "Requirement already satisfied: keras<2.14,>=2.13.1 in d:\\projects\\jupyternotebook\\pidtolstm\\venv\\lib\\site-packages (from tensorflow-intel==2.13.0->tensorflow) (2.13.1)\n",
      "Requirement already satisfied: tensorflow-io-gcs-filesystem>=0.23.1 in d:\\projects\\jupyternotebook\\pidtolstm\\venv\\lib\\site-packages (from tensorflow-intel==2.13.0->tensorflow) (0.31.0)\n",
      "Requirement already satisfied: wheel<1.0,>=0.23.0 in d:\\projects\\jupyternotebook\\pidtolstm\\venv\\lib\\site-packages (from astunparse>=1.6.0->tensorflow-intel==2.13.0->tensorflow) (0.40.0)\n",
      "Collecting google-auth<3,>=1.6.3 (from tensorboard<2.14,>=2.13->tensorflow-intel==2.13.0->tensorflow)\n",
      "  Obtaining dependency information for google-auth<3,>=1.6.3 from https://files.pythonhosted.org/packages/9c/8d/bff87fc722553a5691d8514da5523c23547f3894189ba03b57592e37bdc2/google_auth-2.22.0-py2.py3-none-any.whl.metadata\n",
      "  Using cached google_auth-2.22.0-py2.py3-none-any.whl.metadata (4.2 kB)\n",
      "Collecting google-auth-oauthlib<1.1,>=0.5 (from tensorboard<2.14,>=2.13->tensorflow-intel==2.13.0->tensorflow)\n",
      "  Using cached google_auth_oauthlib-1.0.0-py2.py3-none-any.whl (18 kB)\n",
      "Collecting markdown>=2.6.8 (from tensorboard<2.14,>=2.13->tensorflow-intel==2.13.0->tensorflow)\n",
      "  Using cached Markdown-3.4.3-py3-none-any.whl (93 kB)\n",
      "Collecting requests<3,>=2.21.0 (from tensorboard<2.14,>=2.13->tensorflow-intel==2.13.0->tensorflow)\n",
      "  Obtaining dependency information for requests<3,>=2.21.0 from https://files.pythonhosted.org/packages/70/8e/0e2d847013cb52cd35b38c009bb167a1a26b2ce6cd6965bf26b47bc0bf44/requests-2.31.0-py3-none-any.whl.metadata\n",
      "  Using cached requests-2.31.0-py3-none-any.whl.metadata (4.6 kB)\n",
      "Requirement already satisfied: tensorboard-data-server<0.8.0,>=0.7.0 in d:\\projects\\jupyternotebook\\pidtolstm\\venv\\lib\\site-packages (from tensorboard<2.14,>=2.13->tensorflow-intel==2.13.0->tensorflow) (0.7.1)\n",
      "Requirement already satisfied: werkzeug>=1.0.1 in d:\\projects\\jupyternotebook\\pidtolstm\\venv\\lib\\site-packages (from tensorboard<2.14,>=2.13->tensorflow-intel==2.13.0->tensorflow) (2.3.6)\n",
      "Collecting cachetools<6.0,>=2.0.0 (from google-auth<3,>=1.6.3->tensorboard<2.14,>=2.13->tensorflow-intel==2.13.0->tensorflow)\n",
      "  Obtaining dependency information for cachetools<6.0,>=2.0.0 from https://files.pythonhosted.org/packages/a9/c9/c8a7710f2cedcb1db9224fdd4d8307c9e48cbddc46c18b515fefc0f1abbe/cachetools-5.3.1-py3-none-any.whl.metadata\n",
      "  Using cached cachetools-5.3.1-py3-none-any.whl.metadata (5.2 kB)\n",
      "Collecting pyasn1-modules>=0.2.1 (from google-auth<3,>=1.6.3->tensorboard<2.14,>=2.13->tensorflow-intel==2.13.0->tensorflow)\n",
      "  Using cached pyasn1_modules-0.3.0-py2.py3-none-any.whl (181 kB)\n",
      "Collecting rsa<5,>=3.1.4 (from google-auth<3,>=1.6.3->tensorboard<2.14,>=2.13->tensorflow-intel==2.13.0->tensorflow)\n",
      "  Using cached rsa-4.9-py3-none-any.whl (34 kB)\n",
      "Requirement already satisfied: urllib3<2.0 in d:\\projects\\jupyternotebook\\pidtolstm\\venv\\lib\\site-packages (from google-auth<3,>=1.6.3->tensorboard<2.14,>=2.13->tensorflow-intel==2.13.0->tensorflow) (1.26.16)\n",
      "Collecting requests-oauthlib>=0.7.0 (from google-auth-oauthlib<1.1,>=0.5->tensorboard<2.14,>=2.13->tensorflow-intel==2.13.0->tensorflow)\n",
      "  Using cached requests_oauthlib-1.3.1-py2.py3-none-any.whl (23 kB)\n",
      "Requirement already satisfied: importlib-metadata>=4.4 in d:\\projects\\jupyternotebook\\pidtolstm\\venv\\lib\\site-packages (from markdown>=2.6.8->tensorboard<2.14,>=2.13->tensorflow-intel==2.13.0->tensorflow) (6.8.0)\n",
      "Collecting charset-normalizer<4,>=2 (from requests<3,>=2.21.0->tensorboard<2.14,>=2.13->tensorflow-intel==2.13.0->tensorflow)\n",
      "  Obtaining dependency information for charset-normalizer<4,>=2 from https://files.pythonhosted.org/packages/cb/dd/dce14328e6abe0f475e606131298b4c8f628abd62a4e6f27fdfa496b9efe/charset_normalizer-3.2.0-cp39-cp39-win_amd64.whl.metadata\n",
      "  Using cached charset_normalizer-3.2.0-cp39-cp39-win_amd64.whl.metadata (31 kB)\n",
      "Requirement already satisfied: idna<4,>=2.5 in d:\\projects\\jupyternotebook\\pidtolstm\\venv\\lib\\site-packages (from requests<3,>=2.21.0->tensorboard<2.14,>=2.13->tensorflow-intel==2.13.0->tensorflow) (3.4)\n",
      "Collecting certifi>=2017.4.17 (from requests<3,>=2.21.0->tensorboard<2.14,>=2.13->tensorflow-intel==2.13.0->tensorflow)\n",
      "  Using cached certifi-2023.5.7-py3-none-any.whl (156 kB)\n",
      "Requirement already satisfied: MarkupSafe>=2.1.1 in d:\\projects\\jupyternotebook\\pidtolstm\\venv\\lib\\site-packages (from werkzeug>=1.0.1->tensorboard<2.14,>=2.13->tensorflow-intel==2.13.0->tensorflow) (2.1.3)\n",
      "Requirement already satisfied: zipp>=0.5 in d:\\projects\\jupyternotebook\\pidtolstm\\venv\\lib\\site-packages (from importlib-metadata>=4.4->markdown>=2.6.8->tensorboard<2.14,>=2.13->tensorflow-intel==2.13.0->tensorflow) (3.16.2)\n",
      "Requirement already satisfied: pyasn1<0.6.0,>=0.4.6 in d:\\projects\\jupyternotebook\\pidtolstm\\venv\\lib\\site-packages (from pyasn1-modules>=0.2.1->google-auth<3,>=1.6.3->tensorboard<2.14,>=2.13->tensorflow-intel==2.13.0->tensorflow) (0.5.0)\n",
      "Requirement already satisfied: oauthlib>=3.0.0 in d:\\projects\\jupyternotebook\\pidtolstm\\venv\\lib\\site-packages (from requests-oauthlib>=0.7.0->google-auth-oauthlib<1.1,>=0.5->tensorboard<2.14,>=2.13->tensorflow-intel==2.13.0->tensorflow) (3.2.2)\n",
      "Using cached tensorflow-2.13.0-cp39-cp39-win_amd64.whl (1.9 kB)\n",
      "Using cached tensorflow_intel-2.13.0-cp39-cp39-win_amd64.whl (276.5 MB)\n",
      "Using cached grpcio-1.56.0-cp39-cp39-win_amd64.whl (4.2 MB)\n",
      "Using cached h5py-3.9.0-cp39-cp39-win_amd64.whl (2.7 MB)\n",
      "Using cached google_auth-2.22.0-py2.py3-none-any.whl (181 kB)\n",
      "Using cached requests-2.31.0-py3-none-any.whl (62 kB)\n",
      "Using cached cachetools-5.3.1-py3-none-any.whl (9.3 kB)\n",
      "Using cached charset_normalizer-3.2.0-cp39-cp39-win_amd64.whl (96 kB)\n",
      "Installing collected packages: rsa, pyasn1-modules, opt-einsum, h5py, grpcio, google-pasta, gast, charset-normalizer, certifi, cachetools, astunparse, absl-py, requests, markdown, google-auth, requests-oauthlib, google-auth-oauthlib, tensorboard, tensorflow-intel, tensorflow\n",
      "Successfully installed absl-py-1.4.0 astunparse-1.6.3 cachetools-5.3.1 certifi-2023.5.7 charset-normalizer-3.2.0 gast-0.4.0 google-auth-2.22.0 google-auth-oauthlib-1.0.0 google-pasta-0.2.0 grpcio-1.56.0 h5py-3.9.0 markdown-3.4.3 opt-einsum-3.3.0 pyasn1-modules-0.3.0 requests-2.31.0 requests-oauthlib-1.3.1 rsa-4.9 tensorboard-2.13.0 tensorflow-2.13.0 tensorflow-intel-2.13.0\n"
     ]
    }
   ],
   "source": [
    "!pip install tensorflow"
   ]
  },
  {
   "cell_type": "code",
   "execution_count": 11,
   "id": "6fc07904",
   "metadata": {
    "scrolled": true
   },
   "outputs": [
    {
     "name": "stdout",
     "output_type": "stream",
     "text": [
      "Collecting tqdm\n",
      "  Using cached tqdm-4.65.0-py3-none-any.whl (77 kB)\n",
      "Requirement already satisfied: colorama in d:\\projects\\jupyternotebook\\pidtolstm\\venv\\lib\\site-packages (from tqdm) (0.4.6)\n",
      "Installing collected packages: tqdm\n",
      "Successfully installed tqdm-4.65.0\n"
     ]
    }
   ],
   "source": [
    "!pip install tqdm"
   ]
  },
  {
   "cell_type": "code",
   "execution_count": 12,
   "id": "d8e8acba",
   "metadata": {
    "scrolled": false
   },
   "outputs": [
    {
     "name": "stdout",
     "output_type": "stream",
     "text": [
      "Collecting imageio\n",
      "  Obtaining dependency information for imageio from https://files.pythonhosted.org/packages/c7/b0/7b6c35b8636ed773325cdb6f5ac3cd36afba63d99e20ed59c521cf5018b4/imageio-2.31.1-py3-none-any.whl.metadata\n",
      "  Downloading imageio-2.31.1-py3-none-any.whl.metadata (4.7 kB)\n",
      "Requirement already satisfied: numpy in d:\\projects\\jupyternotebook\\pidtolstm\\venv\\lib\\site-packages (from imageio) (1.24.3)\n",
      "Requirement already satisfied: pillow>=8.3.2 in d:\\projects\\jupyternotebook\\pidtolstm\\venv\\lib\\site-packages (from imageio) (10.0.0)\n",
      "Downloading imageio-2.31.1-py3-none-any.whl (313 kB)\n",
      "   ---------------------------------------- 0.0/313.2 kB ? eta -:--:--\n",
      "   ----- --------------------------------- 41.0/313.2 kB 960.0 kB/s eta 0:00:01\n",
      "   --------------- ------------------------ 122.9/313.2 kB 1.4 MB/s eta 0:00:01\n",
      "   -------------------------------- ------- 256.0/313.2 kB 2.0 MB/s eta 0:00:01\n",
      "   ---------------------------------------- 313.2/313.2 kB 1.9 MB/s eta 0:00:00\n",
      "Installing collected packages: imageio\n",
      "Successfully installed imageio-2.31.1\n"
     ]
    }
   ],
   "source": [
    "!pip install imageio"
   ]
  },
  {
   "cell_type": "code",
   "execution_count": null,
   "id": "ffd93d53",
   "metadata": {},
   "outputs": [],
   "source": []
  }
 ],
 "metadata": {
  "kernelspec": {
   "display_name": "Python3.9",
   "language": "python",
   "name": "python3.9"
  },
  "language_info": {
   "codemirror_mode": {
    "name": "ipython",
    "version": 3
   },
   "file_extension": ".py",
   "mimetype": "text/x-python",
   "name": "python",
   "nbconvert_exporter": "python",
   "pygments_lexer": "ipython3",
   "version": "3.9.0"
  }
 },
 "nbformat": 4,
 "nbformat_minor": 5
}
