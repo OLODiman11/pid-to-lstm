{
 "cells": [
  {
   "cell_type": "code",
   "execution_count": null,
   "id": "8c2b6edc",
   "metadata": {},
   "outputs": [],
   "source": [
    "!pip install --upgrade pip"
   ]
  },
  {
   "cell_type": "code",
   "execution_count": 1,
   "id": "c2e6bb98",
   "metadata": {
    "scrolled": true
   },
   "outputs": [
    {
     "name": "stdout",
     "output_type": "stream",
     "text": [
      "Requirement already satisfied: tclab in d:\\programs\\python 3.9\\lib\\site-packages (0.4.9)\n",
      "Requirement already satisfied: pyserial in d:\\programs\\python 3.9\\lib\\site-packages (from tclab) (3.5)\n"
     ]
    },
    {
     "name": "stderr",
     "output_type": "stream",
     "text": [
      "WARNING: You are using pip version 20.2.3; however, version 23.2.1 is available.\n",
      "You should consider upgrading via the 'd:\\programs\\python 3.9\\python.exe -m pip install --upgrade pip' command.\n"
     ]
    }
   ],
   "source": [
    "!pip install tclab"
   ]
  },
  {
   "cell_type": "code",
   "execution_count": 2,
   "id": "748a8256",
   "metadata": {
    "scrolled": true
   },
   "outputs": [
    {
     "name": "stdout",
     "output_type": "stream",
     "text": [
      "Collecting numpy"
     ]
    },
    {
     "name": "stderr",
     "output_type": "stream",
     "text": [
      "WARNING: You are using pip version 20.2.3; however, version 23.2.1 is available.\n",
      "You should consider upgrading via the 'd:\\programs\\python 3.9\\python.exe -m pip install --upgrade pip' command.\n"
     ]
    },
    {
     "name": "stdout",
     "output_type": "stream",
     "text": [
      "\n",
      "  Downloading numpy-1.25.2-cp39-cp39-win_amd64.whl (15.6 MB)\n",
      "Installing collected packages: numpy\n",
      "Successfully installed numpy-1.25.2\n"
     ]
    }
   ],
   "source": [
    "!pip install numpy"
   ]
  },
  {
   "cell_type": "code",
   "execution_count": 3,
   "id": "45993893",
   "metadata": {
    "scrolled": false
   },
   "outputs": [
    {
     "name": "stdout",
     "output_type": "stream",
     "text": [
      "Collecting pandas\n",
      "  Using cached pandas-2.0.3-cp39-cp39-win_amd64.whl (10.8 MB)\n",
      "Requirement already satisfied: python-dateutil>=2.8.2 in d:\\programs\\python 3.9\\lib\\site-packages (from pandas) (2.8.2)\n",
      "Collecting tzdata>=2022.1\n",
      "  Using cached tzdata-2023.3-py2.py3-none-any.whl (341 kB)\n",
      "Requirement already satisfied: numpy>=1.20.3; python_version < \"3.10\" in d:\\programs\\python 3.9\\lib\\site-packages (from pandas) (1.25.2)\n",
      "Collecting pytz>=2020.1\n",
      "  Using cached pytz-2023.3-py2.py3-none-any.whl (502 kB)\n",
      "Requirement already satisfied: six>=1.5 in d:\\programs\\python 3.9\\lib\\site-packages (from python-dateutil>=2.8.2->pandas) (1.16.0)\n",
      "Installing collected packages: tzdata, pytz, pandas\n",
      "Successfully installed pandas-2.0.3 pytz-2023.3 tzdata-2023.3\n"
     ]
    },
    {
     "name": "stderr",
     "output_type": "stream",
     "text": [
      "WARNING: You are using pip version 20.2.3; however, version 23.2.1 is available.\n",
      "You should consider upgrading via the 'd:\\programs\\python 3.9\\python.exe -m pip install --upgrade pip' command.\n"
     ]
    }
   ],
   "source": [
    "!pip install pandas"
   ]
  },
  {
   "cell_type": "code",
   "execution_count": 4,
   "id": "4ac6e16d",
   "metadata": {},
   "outputs": [
    {
     "name": "stdout",
     "output_type": "stream",
     "text": [
      "Collecting matplotlib\n",
      "  Using cached matplotlib-3.7.2-cp39-cp39-win_amd64.whl (7.5 MB)\n",
      "Collecting fonttools>=4.22.0\n",
      "  Downloading fonttools-4.42.0-cp39-cp39-win_amd64.whl (2.1 MB)\n",
      "Requirement already satisfied: python-dateutil>=2.7 in d:\\programs\\python 3.9\\lib\\site-packages (from matplotlib) (2.8.2)\n",
      "Collecting kiwisolver>=1.0.1\n",
      "  Using cached kiwisolver-1.4.4-cp39-cp39-win_amd64.whl (55 kB)\n",
      "Collecting importlib-resources>=3.2.0; python_version < \"3.10\"\n",
      "  Downloading importlib_resources-6.0.1-py3-none-any.whl (34 kB)\n",
      "Requirement already satisfied: packaging>=20.0 in d:\\programs\\python 3.9\\lib\\site-packages (from matplotlib) (23.1)\n",
      "Collecting pillow>=6.2.0\n",
      "  Using cached Pillow-10.0.0-cp39-cp39-win_amd64.whl (2.5 MB)\n",
      "Collecting pyparsing<3.1,>=2.3.1\n",
      "  Using cached pyparsing-3.0.9-py3-none-any.whl (98 kB)\n",
      "Collecting cycler>=0.10\n",
      "  Using cached cycler-0.11.0-py3-none-any.whl (6.4 kB)\n",
      "Collecting contourpy>=1.0.1\n",
      "  Using cached contourpy-1.1.0-cp39-cp39-win_amd64.whl (429 kB)\n",
      "Requirement already satisfied: numpy>=1.20 in d:\\programs\\python 3.9\\lib\\site-packages (from matplotlib) (1.25.2)\n",
      "Requirement already satisfied: six>=1.5 in d:\\programs\\python 3.9\\lib\\site-packages (from python-dateutil>=2.7->matplotlib) (1.16.0)\n",
      "Requirement already satisfied: zipp>=3.1.0; python_version < \"3.10\" in d:\\programs\\python 3.9\\lib\\site-packages (from importlib-resources>=3.2.0; python_version < \"3.10\"->matplotlib) (3.16.2)\n",
      "Installing collected packages: fonttools, kiwisolver, importlib-resources, pillow, pyparsing, cycler, contourpy, matplotlib\n",
      "Successfully installed contourpy-1.1.0 cycler-0.11.0 fonttools-4.42.0 importlib-resources-6.0.1 kiwisolver-1.4.4 matplotlib-3.7.2 pillow-10.0.0 pyparsing-3.0.9\n"
     ]
    },
    {
     "name": "stderr",
     "output_type": "stream",
     "text": [
      "WARNING: You are using pip version 20.2.3; however, version 23.2.1 is available.\n",
      "You should consider upgrading via the 'd:\\programs\\python 3.9\\python.exe -m pip install --upgrade pip' command.\n"
     ]
    }
   ],
   "source": [
    "!pip install matplotlib"
   ]
  },
  {
   "cell_type": "code",
   "execution_count": 5,
   "id": "8b73dcb2",
   "metadata": {},
   "outputs": [
    {
     "name": "stdout",
     "output_type": "stream",
     "text": [
      "Collecting import-ipynb\n",
      "  Using cached import_ipynb-0.1.4-py3-none-any.whl (4.1 kB)\n",
      "Requirement already satisfied: nbformat in d:\\programs\\python 3.9\\lib\\site-packages (from import-ipynb) (5.9.1)\n",
      "Requirement already satisfied: IPython in d:\\programs\\python 3.9\\lib\\site-packages (from import-ipynb) (8.14.0)\n",
      "Requirement already satisfied: jsonschema>=2.6 in d:\\programs\\python 3.9\\lib\\site-packages (from nbformat->import-ipynb) (4.18.3)\n",
      "Requirement already satisfied: fastjsonschema in d:\\programs\\python 3.9\\lib\\site-packages (from nbformat->import-ipynb) (2.17.1)\n",
      "Requirement already satisfied: traitlets>=5.1 in d:\\programs\\python 3.9\\lib\\site-packages (from nbformat->import-ipynb) (5.9.0)\n",
      "Requirement already satisfied: jupyter-core in d:\\programs\\python 3.9\\lib\\site-packages (from nbformat->import-ipynb) (5.3.1)\n",
      "Requirement already satisfied: stack-data in d:\\programs\\python 3.9\\lib\\site-packages (from IPython->import-ipynb) (0.6.2)\n",
      "Requirement already satisfied: backcall in d:\\programs\\python 3.9\\lib\\site-packages (from IPython->import-ipynb) (0.2.0)\n",
      "Requirement already satisfied: jedi>=0.16 in d:\\programs\\python 3.9\\lib\\site-packages (from IPython->import-ipynb) (0.18.2)\n",
      "Requirement already satisfied: pygments>=2.4.0 in d:\\programs\\python 3.9\\lib\\site-packages (from IPython->import-ipynb) (2.15.1)\n",
      "Requirement already satisfied: decorator in d:\\programs\\python 3.9\\lib\\site-packages (from IPython->import-ipynb) (5.1.1)\n",
      "Requirement already satisfied: typing-extensions; python_version < \"3.10\" in d:\\programs\\python 3.9\\lib\\site-packages (from IPython->import-ipynb) (4.7.1)\n",
      "Requirement already satisfied: colorama; sys_platform == \"win32\" in d:\\programs\\python 3.9\\lib\\site-packages (from IPython->import-ipynb) (0.4.6)\n",
      "Requirement already satisfied: prompt-toolkit!=3.0.37,<3.1.0,>=3.0.30 in d:\\programs\\python 3.9\\lib\\site-packages (from IPython->import-ipynb) (3.0.39)\n",
      "Requirement already satisfied: matplotlib-inline in d:\\programs\\python 3.9\\lib\\site-packages (from IPython->import-ipynb) (0.1.6)\n",
      "Requirement already satisfied: pickleshare in d:\\programs\\python 3.9\\lib\\site-packages (from IPython->import-ipynb) (0.7.5)\n",
      "Requirement already satisfied: jsonschema-specifications>=2023.03.6 in d:\\programs\\python 3.9\\lib\\site-packages (from jsonschema>=2.6->nbformat->import-ipynb) (2023.6.1)\n",
      "Requirement already satisfied: attrs>=22.2.0 in d:\\programs\\python 3.9\\lib\\site-packages (from jsonschema>=2.6->nbformat->import-ipynb) (23.1.0)\n",
      "Requirement already satisfied: rpds-py>=0.7.1 in d:\\programs\\python 3.9\\lib\\site-packages (from jsonschema>=2.6->nbformat->import-ipynb) (0.8.11)\n",
      "Requirement already satisfied: referencing>=0.28.4 in d:\\programs\\python 3.9\\lib\\site-packages (from jsonschema>=2.6->nbformat->import-ipynb) (0.29.1)\n",
      "Requirement already satisfied: platformdirs>=2.5 in d:\\programs\\python 3.9\\lib\\site-packages (from jupyter-core->nbformat->import-ipynb) (3.9.1)\n",
      "Requirement already satisfied: pywin32>=300; sys_platform == \"win32\" and platform_python_implementation != \"PyPy\" in d:\\programs\\python 3.9\\lib\\site-packages (from jupyter-core->nbformat->import-ipynb) (306)\n",
      "Requirement already satisfied: pure-eval in d:\\programs\\python 3.9\\lib\\site-packages (from stack-data->IPython->import-ipynb) (0.2.2)\n",
      "Requirement already satisfied: executing>=1.2.0 in d:\\programs\\python 3.9\\lib\\site-packages (from stack-data->IPython->import-ipynb) (1.2.0)\n",
      "Requirement already satisfied: asttokens>=2.1.0 in d:\\programs\\python 3.9\\lib\\site-packages (from stack-data->IPython->import-ipynb) (2.2.1)\n",
      "Requirement already satisfied: parso<0.9.0,>=0.8.0 in d:\\programs\\python 3.9\\lib\\site-packages (from jedi>=0.16->IPython->import-ipynb) (0.8.3)\n",
      "Requirement already satisfied: wcwidth in d:\\programs\\python 3.9\\lib\\site-packages (from prompt-toolkit!=3.0.37,<3.1.0,>=3.0.30->IPython->import-ipynb) (0.2.6)\n",
      "Requirement already satisfied: six in d:\\programs\\python 3.9\\lib\\site-packages (from asttokens>=2.1.0->stack-data->IPython->import-ipynb) (1.16.0)\n",
      "Installing collected packages: import-ipynb\n",
      "Successfully installed import-ipynb-0.1.4\n"
     ]
    },
    {
     "name": "stderr",
     "output_type": "stream",
     "text": [
      "WARNING: You are using pip version 20.2.3; however, version 23.2.1 is available.\n",
      "You should consider upgrading via the 'd:\\programs\\python 3.9\\python.exe -m pip install --upgrade pip' command.\n"
     ]
    }
   ],
   "source": [
    "!pip install import-ipynb"
   ]
  },
  {
   "cell_type": "code",
   "execution_count": 6,
   "id": "e7d2ce05",
   "metadata": {},
   "outputs": [
    {
     "name": "stdout",
     "output_type": "stream",
     "text": [
      "Collecting scikit-learn\n",
      "  Using cached scikit_learn-1.3.0-cp39-cp39-win_amd64.whl (9.3 MB)\n",
      "Requirement already satisfied: numpy>=1.17.3 in d:\\programs\\python 3.9\\lib\\site-packages (from scikit-learn) (1.25.2)\n",
      "Collecting joblib>=1.1.1\n",
      "  Downloading joblib-1.3.2-py3-none-any.whl (302 kB)\n",
      "Collecting scipy>=1.5.0\n",
      "  Using cached scipy-1.11.1-cp39-cp39-win_amd64.whl (44.1 MB)\n",
      "Collecting threadpoolctl>=2.0.0\n",
      "  Using cached threadpoolctl-3.2.0-py3-none-any.whl (15 kB)\n",
      "Installing collected packages: joblib, scipy, threadpoolctl, scikit-learn\n",
      "Successfully installed joblib-1.3.2 scikit-learn-1.3.0 scipy-1.11.1 threadpoolctl-3.2.0\n"
     ]
    },
    {
     "name": "stderr",
     "output_type": "stream",
     "text": [
      "WARNING: You are using pip version 20.2.3; however, version 23.2.1 is available.\n",
      "You should consider upgrading via the 'd:\\programs\\python 3.9\\python.exe -m pip install --upgrade pip' command.\n"
     ]
    }
   ],
   "source": [
    "!pip install scikit-learn"
   ]
  },
  {
   "cell_type": "code",
   "execution_count": 7,
   "id": "688b5542",
   "metadata": {
    "scrolled": false
   },
   "outputs": [
    {
     "name": "stdout",
     "output_type": "stream",
     "text": [
      "Collecting keras\n",
      "  Using cached keras-2.13.1-py3-none-any.whl (1.7 MB)\n",
      "Installing collected packages: keras\n",
      "Successfully installed keras-2.13.1\n"
     ]
    },
    {
     "name": "stderr",
     "output_type": "stream",
     "text": [
      "WARNING: You are using pip version 20.2.3; however, version 23.2.1 is available.\n",
      "You should consider upgrading via the 'd:\\programs\\python 3.9\\python.exe -m pip install --upgrade pip' command.\n"
     ]
    }
   ],
   "source": [
    "!pip install keras"
   ]
  },
  {
   "cell_type": "code",
   "execution_count": null,
   "id": "5931030d",
   "metadata": {},
   "outputs": [],
   "source": [
    "!pip install tensorflow"
   ]
  },
  {
   "cell_type": "code",
   "execution_count": null,
   "id": "6fc07904",
   "metadata": {
    "scrolled": true
   },
   "outputs": [],
   "source": [
    "!pip install tqdm"
   ]
  },
  {
   "cell_type": "code",
   "execution_count": null,
   "id": "d8e8acba",
   "metadata": {
    "scrolled": false
   },
   "outputs": [],
   "source": [
    "!pip install imageio"
   ]
  },
  {
   "cell_type": "code",
   "execution_count": null,
   "id": "ffd93d53",
   "metadata": {},
   "outputs": [],
   "source": []
  }
 ],
 "metadata": {
  "kernelspec": {
   "display_name": "Python 3 (ipykernel)",
   "language": "python",
   "name": "python3"
  },
  "language_info": {
   "codemirror_mode": {
    "name": "ipython",
    "version": 3
   },
   "file_extension": ".py",
   "mimetype": "text/x-python",
   "name": "python",
   "nbconvert_exporter": "python",
   "pygments_lexer": "ipython3",
   "version": "3.9.0"
  }
 },
 "nbformat": 4,
 "nbformat_minor": 5
}
