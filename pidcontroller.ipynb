{
 "cells": [
  {
   "cell_type": "code",
   "execution_count": 1,
   "id": "c8da416f",
   "metadata": {},
   "outputs": [],
   "source": [
    "class PidController:\n",
    "\n",
    "    def __init__(self, kp: float, ki: float, kd: float, out_min: float = -10000, out_max: float = 10000, window = 1):\n",
    "        self.kp = kp\n",
    "        self.ki = ki\n",
    "        self.kd = kd\n",
    "        self.out_min = out_min\n",
    "        self.out_max = out_max\n",
    "        self.window = window\n",
    "        self.__prev_error = 0\n",
    "        self.__last_index = 0\n",
    "        self.__p = 0\n",
    "        self.__i = 0\n",
    "        self.__d = 0\n",
    "        self.__err_history = window * [0]\n",
    "\n",
    "    @property\n",
    "    def p(self):\n",
    "        return self.__p\n",
    "\n",
    "    @property\n",
    "    def i(self):\n",
    "        return self.__i\n",
    "\n",
    "    @property\n",
    "    def d(self):\n",
    "        return self.__d\n",
    "\n",
    "    def get_output(self, set_point: float, process_value: float, dt: float) -> float:\n",
    "        self.__err_history[self.__last_index] = set_point - process_value\n",
    "        self.__last_index = (self.__last_index + 1) % self.window\n",
    "        error = sum(self.__err_history) / self.window\n",
    "        \n",
    "        self.__p = self.kp *  error\n",
    "        self.__i += self.ki * error * dt\n",
    "        self.__d = self.kd * (self.__prev_error - error) / dt\n",
    "        self.__prev_error = error\n",
    "\n",
    "        output = self.p + self.i + self.d\n",
    "        if self.out_min > output or output > self.out_max:\n",
    "            self.__i -= self.ki * error * dt\n",
    "        output = max(self.out_min, min(self.out_max, output))\n",
    "        return output\n",
    "    \n",
    "    def step_response(self, dt: float, duration=1):\n",
    "        points = round(duration / dt)\n",
    "        self.__i = 0\n",
    "        set_point = 1\n",
    "        history = []\n",
    "        history.append(0)\n",
    "        for i in range(points):\n",
    "            process_value = self.get_output(set_point, process_value, dt)\n",
    "            history.append(process_value + history[-1])\n",
    "        return history\n",
    "\n",
    "\n",
    "\n"
   ]
  },
  {
   "cell_type": "code",
   "execution_count": null,
   "id": "20358495",
   "metadata": {},
   "outputs": [],
   "source": []
  }
 ],
 "metadata": {
  "kernelspec": {
   "display_name": "Python 3 (ipykernel)",
   "language": "python",
   "name": "python3"
  },
  "language_info": {
   "codemirror_mode": {
    "name": "ipython",
    "version": 3
   },
   "file_extension": ".py",
   "mimetype": "text/x-python",
   "name": "python",
   "nbconvert_exporter": "python",
   "pygments_lexer": "ipython3",
   "version": "3.9.0"
  }
 },
 "nbformat": 4,
 "nbformat_minor": 5
}
