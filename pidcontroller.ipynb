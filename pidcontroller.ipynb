{
 "cells": [
  {
   "cell_type": "code",
   "execution_count": 2,
   "id": "c8da416f",
   "metadata": {},
   "outputs": [],
   "source": [
    "class PidController:\n",
    "\n",
    "    def __init__(self, kp: float, ki: float, kd: float, out_min: float, out_max: float):\n",
    "        self.kp = kp\n",
    "        self.ki = ki\n",
    "        self.kd = kd\n",
    "        self.out_min = out_min\n",
    "        self.out_max = out_max\n",
    "        self.__prev_process_value = 0\n",
    "        self.__p = 0\n",
    "        self.__i = 0\n",
    "        self.__d = 0\n",
    "\n",
    "    @property\n",
    "    def p(self):\n",
    "        return self.__p\n",
    "\n",
    "    @property\n",
    "    def i(self):\n",
    "        return self.__i\n",
    "\n",
    "    @property\n",
    "    def d(self):\n",
    "        return self.__d\n",
    "\n",
    "    def get_output(self, set_point: float, process_value: float, dt: float) -> float:\n",
    "        \n",
    "        error = set_point - process_value\n",
    "        derivative = (process_value - self.__prev_process_value) / dt\n",
    "\n",
    "        self.__p = self.kp * error\n",
    "        self.__i = self.__i + self.ki * dt * error\n",
    "        self.__d = self.kd * derivative / dt * error\n",
    "\n",
    "        self.__prev_process_value = process_value\n",
    "\n",
    "        output = self.__p + self.i + self.d\n",
    "        if self.out_min > output or output > self.out_max:\n",
    "            self.__i = self.__i - self.ki * dt * error\n",
    "        output = max(self.out_min, min(self.out_max, output))\n",
    "\n",
    "        return output\n",
    "\n",
    "\n",
    "\n"
   ]
  },
  {
   "cell_type": "code",
   "execution_count": null,
   "id": "1686558c",
   "metadata": {},
   "outputs": [],
   "source": []
  }
 ],
 "metadata": {
  "kernelspec": {
   "display_name": "Python3.9",
   "language": "python",
   "name": "python3.9"
  },
  "language_info": {
   "codemirror_mode": {
    "name": "ipython",
    "version": 3
   },
   "file_extension": ".py",
   "mimetype": "text/x-python",
   "name": "python",
   "nbconvert_exporter": "python",
   "pygments_lexer": "ipython3",
   "version": "3.9.0"
  }
 },
 "nbformat": 4,
 "nbformat_minor": 5
}
